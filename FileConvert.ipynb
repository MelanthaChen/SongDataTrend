{
 "cells": [
  {
   "cell_type": "code",
   "execution_count": 1,
   "metadata": {},
   "outputs": [],
   "source": [
    "import pandas as pd\n",
    "from sqlalchemy import create_engine\n",
    "import sqlite3\n",
    "import os"
   ]
  },
  {
   "cell_type": "code",
   "execution_count": 5,
   "metadata": {},
   "outputs": [
    {
     "name": "stdout",
     "output_type": "stream",
     "text": [
      "Imported FilteredGRemStopCN_Synonym.csv as table FilteredGRemStopCN_Synonym\n",
      "Imported GroupedRemStop.csv as table GroupedRemStop\n",
      "Imported SegmentedLyricFrequencyChina.csv as table SegmentedLyricFrequencyChina\n",
      "Imported SegmentedLyricWithTermFrequency.csv as table SegmentedLyricWithTermFrequency\n",
      "Imported GroupedRemStopTermCN.csv as table GroupedRemStopTermCN\n",
      "Imported FilteredGSegLyricTerm.csv as table FilteredGSegLyricTerm\n",
      "Imported RemovedStopWordsFrequencyChina.csv as table RemovedStopWordsFrequencyChina\n",
      "Imported FilteredGRemStopTerm_Synonym.csv as table FilteredGRemStopTerm_Synonym\n",
      "Imported RemovedStopWordsWithTermFrequencyChina.csv as table RemovedStopWordsWithTermFrequencyChina\n",
      "Imported SegmentedLyricWithTermFrequencyChina.csv as table SegmentedLyricWithTermFrequencyChina\n",
      "Imported GroupedRemStopCN.csv as table GroupedRemStopCN\n",
      "Imported FinalDataAnalysis.csv as table FinalDataAnalysis\n",
      "Imported GroupedSegLyricTerm.csv as table GroupedSegLyricTerm\n",
      "Imported FilteredGSegLyricCN.csv as table FilteredGSegLyricCN\n",
      "Imported GroupedRemStopTerm.csv as table GroupedRemStopTerm\n",
      "Imported FilteredGRemStop_Synonym.csv as table FilteredGRemStop_Synonym\n",
      "Imported RemovedStopWordsWithTermFrequency.csv as table RemovedStopWordsWithTermFrequency\n",
      "Imported GroupedSegLyricCN.csv as table GroupedSegLyricCN\n",
      "Imported GroupedSegLyric.csv as table GroupedSegLyric\n",
      "Imported FilteredGRemStopTerm.csv as table FilteredGRemStopTerm\n",
      "Imported RemovedStopWordsFrequency.csv as table RemovedStopWordsFrequency\n",
      "Imported FilteredGSegLyricCN_Synonym.csv as table FilteredGSegLyricCN_Synonym\n",
      "Imported AbstractedFinal.csv as table AbstractedFinal\n",
      "Imported FilteredGSegLyricTerm_Synonym.csv as table FilteredGSegLyricTerm_Synonym\n",
      "Imported SegmentedLyricFrequency.csv as table SegmentedLyricFrequency\n",
      "Imported FilteredGSegLyric.csv as table FilteredGSegLyric\n",
      "Imported GroupedSegLyricTermCN.csv as table GroupedSegLyricTermCN\n",
      "Imported FilteredGSegLyric_Synonym.csv as table FilteredGSegLyric_Synonym\n",
      "Imported FilteredGRemStop.csv as table FilteredGRemStop\n",
      "Imported SegmentedLyricFrequencyRGChina.csv as table SegmentedLyricFrequencyRGChina\n",
      "Imported FilteredGRemStopCN.csv as table FilteredGRemStopCN\n"
     ]
    }
   ],
   "source": [
    "# This code is to convert all the files in the assigned \n",
    "# directory into the tables in one database\n",
    "\n",
    "# Directory containing CSV files\n",
    "CSV_DIR = 'final_datasets'\n",
    "\n",
    "# SQLite database file\n",
    "DB_FILE = 'lyrics_frequency.db'\n",
    "\n",
    "# Create a connection to the SQLite database\n",
    "conn = sqlite3.connect(DB_FILE)\n",
    "\n",
    "# List all CSV files in the directory\n",
    "csv_files = [f for f in os.listdir(CSV_DIR) if f.endswith('.csv')]\n",
    "\n",
    "# Function to clean table names\n",
    "def clean_table_name(name):\n",
    "    return ''.join(char if char.isalnum() else '_' for char in name)\n",
    "\n",
    "# Iterate over each CSV file and convert it to a table\n",
    "for csv_file in csv_files:\n",
    "    # Load the CSV file into a DataFrame\n",
    "    df = pd.read_csv(os.path.join(CSV_DIR, csv_file))\n",
    "    \n",
    "    # Clean the table name\n",
    "    table_name = clean_table_name(os.path.splitext(csv_file)[0])\n",
    "    \n",
    "    # Write the DataFrame to a table in the SQLite database\n",
    "    df.to_sql(table_name, conn, if_exists='replace', index=False)\n",
    "    print(f\"Imported {csv_file} as table {table_name}\")\n",
    "\n",
    "# Close the connection\n",
    "conn.close()"
   ]
  }
 ],
 "metadata": {
  "kernelspec": {
   "display_name": "Python 3",
   "language": "python",
   "name": "python3"
  },
  "language_info": {
   "codemirror_mode": {
    "name": "ipython",
    "version": 3
   },
   "file_extension": ".py",
   "mimetype": "text/x-python",
   "name": "python",
   "nbconvert_exporter": "python",
   "pygments_lexer": "ipython3",
   "version": "3.9.6"
  }
 },
 "nbformat": 4,
 "nbformat_minor": 2
}
